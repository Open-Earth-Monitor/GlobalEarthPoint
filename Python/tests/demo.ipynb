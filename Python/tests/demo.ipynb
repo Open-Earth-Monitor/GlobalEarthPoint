{
 "cells": [
  {
   "cell_type": "code",
   "execution_count": 2,
   "id": "559f9e8b-8653-4928-854d-4c153f9ca329",
   "metadata": {},
   "outputs": [
    {
     "name": "stdout",
     "output_type": "stream",
     "text": [
      "Help on class gedil2 in module func:\n",
      "\n",
      "class gedil2(builtins.object)\n",
      " |  gedil2(geom, start_dt='2019-04-18', end_dt='2023-03-16', n_jobs=-5)\n",
      " |  \n",
      " |  Methods defined here:\n",
      " |  \n",
      " |  __init__(self, geom, start_dt='2019-04-18', end_dt='2023-03-16', n_jobs=-5)\n",
      " |      Initialize self.  See help(type(self)) for accurate signature.\n",
      " |  \n",
      " |  retrieve(self, columns='*')\n",
      " |  \n",
      " |  scan(self)\n",
      " |  \n",
      " |  ----------------------------------------------------------------------\n",
      " |  Data descriptors defined here:\n",
      " |  \n",
      " |  __dict__\n",
      " |      dictionary for instance variables (if defined)\n",
      " |  \n",
      " |  __weakref__\n",
      " |      list of weak references to the object (if defined)\n",
      "\n"
     ]
    }
   ],
   "source": [
    "from func import gedil2\n",
    "help(gedil2)"
   ]
  },
  {
   "cell_type": "code",
   "execution_count": 3,
   "id": "328a9213-7897-4c32-b9b2-04e4f4f684a4",
   "metadata": {},
   "outputs": [],
   "source": [
    "obj = gedil2(Polygon([(99, 20), (100, 20), (105, 21), (95, 21), (99, 20)]),start_dt='2020-01-01',end_dt='2021-06-01',n_jobs=20)"
   ]
  },
  {
   "cell_type": "code",
   "execution_count": 4,
   "id": "b9105f03-27f2-4a0b-88c1-434cd2b234ef",
   "metadata": {},
   "outputs": [
    {
     "name": "stdout",
     "output_type": "stream",
     "text": [
      "counting row number\n"
     ]
    },
    {
     "data": {
      "text/plain": [
       "{'schema': OrderedDict([('delta_time', Int64),\n",
       "              ('beamname', UInt8),\n",
       "              ('shotnumber', Int64),\n",
       "              ('latitude', Float64),\n",
       "              ('longitude', Float64),\n",
       "              ('elev_lowestmode', Float64),\n",
       "              ('rh100', Float64),\n",
       "              ('rh99', Float64),\n",
       "              ('rh98', Float64),\n",
       "              ('rh97', Float64),\n",
       "              ('rh95', Float64),\n",
       "              ('rh75', Float64),\n",
       "              ('rh50', Float64),\n",
       "              ('rh25', Float64),\n",
       "              ('sensitivity', Float64),\n",
       "              ('night_flag', Boolean),\n",
       "              ('rh100_a1', Float64),\n",
       "              ('rh100_a2', Float64),\n",
       "              ('rh100_a3', Float64),\n",
       "              ('rh100_a4', Float64),\n",
       "              ('rh100_a5', Float64),\n",
       "              ('rh100_a6', Float64),\n",
       "              ('rh99_a1', Float64),\n",
       "              ('rh99_a2', Float64),\n",
       "              ('rh99_a3', Float64),\n",
       "              ('rh99_a4', Float64),\n",
       "              ('rh99_a5', Float64),\n",
       "              ('rh99_a6', Float64),\n",
       "              ('rh98_a1', Float64),\n",
       "              ('rh98_a2', Float64),\n",
       "              ('rh98_a3', Float64),\n",
       "              ('rh98_a4', Float64),\n",
       "              ('rh98_a5', Float64),\n",
       "              ('rh98_a6', Float64),\n",
       "              ('rh97_a1', Float64),\n",
       "              ('rh97_a2', Float64),\n",
       "              ('rh97_a3', Float64),\n",
       "              ('rh97_a4', Float64),\n",
       "              ('rh97_a5', Float64),\n",
       "              ('rh97_a6', Float64),\n",
       "              ('rh95_a1', Float64),\n",
       "              ('rh95_a2', Float64),\n",
       "              ('rh95_a3', Float64),\n",
       "              ('rh95_a4', Float64),\n",
       "              ('rh95_a5', Float64),\n",
       "              ('rh95_a6', Float64),\n",
       "              ('rh75_a1', Float64),\n",
       "              ('rh75_a2', Float64),\n",
       "              ('rh75_a3', Float64),\n",
       "              ('rh75_a4', Float64),\n",
       "              ('rh75_a5', Float64),\n",
       "              ('rh75_a6', Float64),\n",
       "              ('rh50_a1', Float64),\n",
       "              ('rh50_a2', Float64),\n",
       "              ('rh50_a3', Float64),\n",
       "              ('rh50_a4', Float64),\n",
       "              ('rh50_a5', Float64),\n",
       "              ('rh50_a6', Float64),\n",
       "              ('rh25_a1', Float64),\n",
       "              ('rh25_a2', Float64),\n",
       "              ('rh25_a3', Float64),\n",
       "              ('rh25_a4', Float64),\n",
       "              ('rh25_a5', Float64),\n",
       "              ('rh25_a6', Float64),\n",
       "              ('sensitivity_a1', Float64),\n",
       "              ('sensitivity_a2', Float64),\n",
       "              ('sensitivity_a3', Float64),\n",
       "              ('sensitivity_a4', Float64),\n",
       "              ('sensitivity_a5', Float64),\n",
       "              ('sensitivity_a6', Float64),\n",
       "              ('elev_lowestmode_a1', Float64),\n",
       "              ('elev_lowestmode_a2', Float64),\n",
       "              ('elev_lowestmode_a3', Float64),\n",
       "              ('elev_lowestmode_a4', Float64),\n",
       "              ('elev_lowestmode_a5', Float64),\n",
       "              ('elev_lowestmode_a6', Float64),\n",
       "              ('cover', Float64),\n",
       "              ('num_detectedmodes', UInt8),\n",
       "              ('omega', Float64),\n",
       "              ('pai', Float64),\n",
       "              ('pgap_theta', Float64),\n",
       "              ('rg', Float64),\n",
       "              ('rv', Float64),\n",
       "              ('rhog', Float64),\n",
       "              ('selected_rg_algorithm', UInt8),\n",
       "              ('rhov', Float64),\n",
       "              ('selected_l2a_algorithm', UInt8),\n",
       "              ('fhd_normal', Float64),\n",
       "              ('surface_flag', Boolean),\n",
       "              ('leaf_off_flag', Boolean),\n",
       "              ('l2b_quality_flag', Boolean)]),\n",
       " 'row counts': 4653579}"
      ]
     },
     "execution_count": 4,
     "metadata": {},
     "output_type": "execute_result"
    }
   ],
   "source": [
    "obj.scan()"
   ]
  },
  {
   "cell_type": "code",
   "execution_count": null,
   "id": "c802b064-f204-4d10-b775-8602be057e16",
   "metadata": {},
   "outputs": [
    {
     "name": "stdout",
     "output_type": "stream",
     "text": [
      "compiling data from 154 paritions 4653579 points, please wait............\n"
     ]
    }
   ],
   "source": [
    "df = obj.retrieve(columns=['latitude','longitude','elev_lowestmode','rh25','rh50','rh75','l2b_quality_flag'])"
   ]
  },
  {
   "cell_type": "code",
   "execution_count": null,
   "id": "ae4bb59c-58f6-495a-86fe-ee760072f1e4",
   "metadata": {},
   "outputs": [],
   "source": [
    "df.head()"
   ]
  }
 ],
 "metadata": {
  "kernelspec": {
   "display_name": "Python 3 (ipykernel)",
   "language": "python",
   "name": "python3"
  },
  "language_info": {
   "codemirror_mode": {
    "name": "ipython",
    "version": 3
   },
   "file_extension": ".py",
   "mimetype": "text/x-python",
   "name": "python",
   "nbconvert_exporter": "python",
   "pygments_lexer": "ipython3",
   "version": "3.8.13"
  }
 },
 "nbformat": 4,
 "nbformat_minor": 5
}
