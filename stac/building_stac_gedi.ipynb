{
 "cells": [
  {
   "cell_type": "markdown",
   "id": "6e11ec93-5137-4ea4-83d1-ea5ff14255f2",
   "metadata": {},
   "source": [
    "# Creation of STAC collection for GEDI02\n",
    "\n",
    "This script describes the creation of GEDI02 stac collection, which is published on OpenLandMap STAC (https://stac.openlandmap.org/GEDI02/collection.json). "
   ]
  },
  {
   "cell_type": "code",
   "execution_count": null,
   "id": "1b4c10e3-c92a-47b2-833f-50c857d0c743",
   "metadata": {
    "tags": []
   },
   "outputs": [],
   "source": [
    "import os\n",
    "import json\n",
    "import rasterio\n",
    "import urllib.request\n",
    "import pystac\n",
    "\n",
    "from datetime import datetime, timezone, timedelta\n",
    "from shapely.geometry import Polygon, mapping\n",
    "from tempfile import TemporaryDirectory\n",
    "from shapely import from_wkb\n",
    "import duckdb\n",
    "import contextily as cx\n",
    "from shapely import geometry\n",
    "import geopandas as gpd\n",
    "import rasterio\n",
    "import numpy as np\n",
    "from rasterio.transform import from_bounds\n",
    "from rasterio.features import rasterize\n",
    "import matplotlib.pyplot as plt\n",
    "from joblib import Parallel, delayed\n",
    "\n",
    "from minio import Minio\n",
    "import struct\n",
    "from shapely.geometry import Point\n",
    "import geopandas as gpd\n",
    "import math\n"
   ]
  },
  {
   "cell_type": "markdown",
   "id": "e3cc1f2d-8a27-49b0-935f-886132996d4e",
   "metadata": {},
   "source": [
    "## Part 1: Retrieve files from s3 buckets"
   ]
  },
  {
   "cell_type": "code",
   "execution_count": null,
   "id": "2f95067c-de59-484f-87a8-c4f2d51c4c52",
   "metadata": {
    "tags": []
   },
   "outputs": [],
   "source": [
    "access_key='your_S3_key'\n",
    "secret_access_key='your_S3_secret_key'\n",
    "ip='your_s3_ip'\n",
    "s3_config = {\n",
    "'access_key': access_key,\n",
    "'secret_access_key': 'secret_access_key',\n",
    "'host': ip}\n",
    "client = Minio(s3_config['host'], s3_config['access_key'], s3_config['secret_access_key'], secure=False) "
   ]
  },
  {
   "cell_type": "code",
   "execution_count": null,
   "id": "8224579a-8cd1-4ce7-a100-234d49432ea7",
   "metadata": {
    "tags": []
   },
   "outputs": [],
   "source": [
    "# List all objects in the bucket\n",
    "objects=client.list_objects(\"global\", recursive=True, prefix=\"glidar/gedi-ard/level2/l2v002.gedi_20190418_20230316_go_epsg.4326_v20240827\")\n",
    "# Print file names\n",
    "files =[]\n",
    "for obj in [i for i in objects if i.object_name.endswith('gedi_l2ab.parquet')]:    \n",
    "    files.append([obj.object_name,obj.size])"
   ]
  },
  {
   "cell_type": "code",
   "execution_count": null,
   "id": "564c4190-cf0c-4ebf-a167-a24feeb091e8",
   "metadata": {
    "tags": []
   },
   "outputs": [],
   "source": [
    "gedi_columns=['delta_time', 'beamname', 'shotnumber', 'latitude', 'longitude',\n",
    "       'elev_lowestmode', 'rh100', 'rh99', 'rh98', 'rh97', 'rh95', 'rh75',\n",
    "       'rh50', 'rh25', 'sensitivity', 'night_flag', 'rh100_a1', 'rh100_a2',\n",
    "       'rh100_a3', 'rh100_a4', 'rh100_a5', 'rh100_a6', 'rh99_a1', 'rh99_a2',\n",
    "       'rh99_a3', 'rh99_a4', 'rh99_a5', 'rh99_a6', 'rh98_a1', 'rh98_a2',\n",
    "       'rh98_a3', 'rh98_a4', 'rh98_a5', 'rh98_a6', 'rh97_a1', 'rh97_a2',\n",
    "       'rh97_a3', 'rh97_a4', 'rh97_a5', 'rh97_a6', 'rh95_a1', 'rh95_a2',\n",
    "       'rh95_a3', 'rh95_a4', 'rh95_a5', 'rh95_a6', 'rh75_a1', 'rh75_a2',\n",
    "       'rh75_a3', 'rh75_a4', 'rh75_a5', 'rh75_a6', 'rh50_a1', 'rh50_a2',\n",
    "       'rh50_a3', 'rh50_a4', 'rh50_a5', 'rh50_a6', 'rh25_a1', 'rh25_a2',\n",
    "       'rh25_a3', 'rh25_a4', 'rh25_a5', 'rh25_a6', 'sensitivity_a1',\n",
    "       'sensitivity_a2', 'sensitivity_a3', 'sensitivity_a4', 'sensitivity_a5',\n",
    "       'sensitivity_a6', 'elev_lowestmode_a1', 'elev_lowestmode_a2',\n",
    "       'elev_lowestmode_a3', 'elev_lowestmode_a4', 'elev_lowestmode_a5',\n",
    "       'elev_lowestmode_a6', 'cover', 'num_detectedmodes', 'omega', 'pai',\n",
    "       'pgap_theta', 'rg', 'rv', 'rhog', 'selected_rg_algorithm', 'rhov',\n",
    "       'selected_l2a_algorithm', 'fhd_normal', 'surface_flag', 'leaf_off_flag',\n",
    "       'l2b_quality_flag', 'lon', 'lat', 'year']"
   ]
  },
  {
   "cell_type": "markdown",
   "id": "4abac609-6ef8-4c4f-af29-449755b056e9",
   "metadata": {},
   "source": [
    "## Part 2: define fucntions\n",
    "\n",
    "1. transfer geoparquet wbk to wkt\n",
    "2. rasterize goepandas dataframe to geotiff"
   ]
  },
  {
   "cell_type": "code",
   "execution_count": null,
   "id": "8b2ee87e-1511-4ad3-a909-889ff15ad403",
   "metadata": {
    "tags": []
   },
   "outputs": [],
   "source": [
    "def transfer(geom_byte):\n",
    "    # Given bytearray\n",
    "    byte_data = geom_byte\n",
    "\n",
    "    # Extract X and Y coordinates (assuming IEEE 754 double precision format)\n",
    "    x, y = struct.unpack(\"dd\", byte_data[-16:])  # Extract last 16 bytes as two doubles\n",
    "\n",
    "    # Create a Shapely Point\n",
    "    point = Point(x, y)\n",
    "    return point\n"
   ]
  },
  {
   "cell_type": "code",
   "execution_count": null,
   "id": "fa6bba83-1064-4ebf-a53a-3543c8b073a3",
   "metadata": {
    "tags": []
   },
   "outputs": [],
   "source": [
    "def rasterize_gdf_to_geotiff(gdf, column, output_tiff, resolution=10, nodata_value=0):\n",
    "    \"\"\"\n",
    "    Rasterizes a GeoDataFrame using values from a specific column and saves it as a GeoTIFF.\n",
    "    \n",
    "    Parameters:\n",
    "    - gdf: GeoDataFrame containing geometries.\n",
    "    - column: Column name whose values will be burned into the raster.\n",
    "    - output_tiff: Output path for the GeoTIFF file.\n",
    "    - resolution: Pixel resolution in the units of the CRS.\n",
    "    \"\"\"\n",
    "    # Get bounds of the vector data\n",
    "    minx, miny, maxx, maxy = gdf.buffer(resolution).total_bounds\n",
    "\n",
    "    # Define raster width and height\n",
    "    width = int((maxx - minx) / resolution)\n",
    "    height = int((maxy - miny) / resolution)\n",
    "\n",
    "    # Define transformation (maps pixel coordinates to spatial coordinates)\n",
    "    transform = from_bounds(minx, miny, maxx, maxy, width, height)\n",
    "\n",
    "    # Create a list of (geometry, value) tuples\n",
    "    shapes = [(geom, value) for geom, value in zip(gdf.geometry, gdf[column])]\n",
    "\n",
    "    # Rasterize vector data into an array\n",
    "    raster = rasterize(\n",
    "        shapes=shapes,\n",
    "        out_shape=(height, width),\n",
    "        transform=transform,\n",
    "        fill=nodata_value,  # Background value\n",
    "        all_touched=True,  # If True, touches any pixel it overlaps\n",
    "    )\n",
    "    \n",
    "    # Normalize raster values to range [0, 1] for colormap\n",
    "    min_val, max_val = raster[raster > nodata_value].min(), raster.max()\n",
    "    normalized_raster = (raster - min_val) / (max_val - min_val)\n",
    "    normalized_raster[raster == nodata_value] = 0  # Keep NoData as 0\n",
    "\n",
    "    # Apply \"magma\" colormap from Matplotlib\n",
    "    cmap = plt.cm.magma\n",
    "    rgba_img = cmap(normalized_raster)  # Returns an (H, W, 4) array with RGBA values\n",
    "\n",
    "    # Convert RGBA to 3-band (RGB) array (scale to 0–255)\n",
    "    rgb_raster = (rgba_img[:, :, :3] * 255).astype(np.uint8)\n",
    "\n",
    "    # Save to Cloud-Optimized GeoTIFF (COG)\n",
    "    with rasterio.open(\n",
    "        output_tiff, \"w\",\n",
    "        driver=\"COG\",  # Saves as a Cloud-Optimized GeoTIFF\n",
    "        height=height, width=width,\n",
    "        count=1, dtype=rasterio.uint8,  # 3 bands (RGB)\n",
    "        crs=gdf.crs, transform=transform,\n",
    "        nodata=0,  # Set NoData value\n",
    "        compress=\"DEFLATE\",  # Apply compression\n",
    "        tiled=True,  # Enable tiling for COG\n",
    "        blockxsize=256, blockysize=256,  # Set block size for COG\n",
    "        BIGTIFF=\"IF_NEEDED\"  # Allow large files\n",
    "    ) as dst:\n",
    "        dst.write(raster, 1)  # one band\n",
    "        \n",
    "        #dst.write(rgb_raster[:, :, 0], 1)  # Red band\n",
    "        #dst.write(rgb_raster[:, :, 1], 2)  # Green band\n",
    "        #dst.write(rgb_raster[:, :, 2], 3)  # Blue band\n",
    "    \n",
    "    print(f\"Raster saved to {output_tiff}\")"
   ]
  },
  {
   "cell_type": "markdown",
   "id": "11c3053d-30c0-4e7d-9490-6d0b5f1886fa",
   "metadata": {},
   "source": [
    "## Part 3: Process the files into STAC items and create metadata\n",
    "\n",
    "STAC items of GEDI02 collection contains the infos: (1) url points to the single geoparquet file in S3 server, (2) an overview image of rasterized GEDI points as COG as thumbnail, (3) auxiliary metadata, such as footprint, bbox, platform, license."
   ]
  },
  {
   "cell_type": "code",
   "execution_count": null,
   "id": "9d7a9c80-9501-4140-a350-ead2c0748e6b",
   "metadata": {
    "tags": []
   },
   "outputs": [],
   "source": [
    "def worker(file):\n",
    "    url='https://s3.opengeohub.org/global/'+file[0]\n",
    "    asset_name = file[0].split('/')[3]\n",
    "    file_size = file[1]\n",
    "\n",
    "    df_duckdb = duckdb.sql(f\"\"\"\n",
    "                            INSTALL httpfs;\n",
    "                            LOAD httpfs;\n",
    "                            INSTALL spatial;\n",
    "                            LOAD spatial;\n",
    "\n",
    "                            SELECT longitude, latitude, rh95, delta_time, geometry\n",
    "\n",
    "                            FROM \"{url}\"\n",
    "                            \"\"\")\n",
    "\n",
    "    df=df_duckdb.df()\n",
    "    df['geometry']=df.geometry.apply(lambda x: transfer(x))\n",
    "    df['datetime'] = [datetime(2018,1,1,0,0,0) + timedelta(seconds=i) for i in df['delta_time']]\n",
    "    num_of_points=len(df)\n",
    "\n",
    "    s_date=min(df.datetime)\n",
    "    e_date=max(df.datetime)\n",
    "\n",
    "    item_name = '_'.join(file[0].split('/')[4:]).split('.')[0]\n",
    "\n",
    "\n",
    "    gdf = gpd.GeoDataFrame(\n",
    "        df, geometry=gpd.points_from_xy(df.longitude, df.latitude), crs=\"EPSG:4326\"\n",
    "    )\n",
    "    bbox=gdf.total_bounds.tolist()\n",
    "    xmin=math.floor(bbox[0])\n",
    "    ymin=math.ceil(bbox[1])\n",
    "    xmax=math.floor(bbox[2])\n",
    "    ymax=math.ceil(bbox[3])\n",
    "\n",
    "    footprint = mapping(geometry.box(xmin,ymin,xmax,ymax))\n",
    "    if len(gdf)>5000:\n",
    "        gdf = gdf.sample(5000)\n",
    "    os.makedirs(f'stac/GEDI02/{item_name}',exist_ok=True)\n",
    "    thumbmail_path = f'stac/GEDI02/{item_name}/overview_{item_name}.tif'\n",
    "    rasterize_gdf_to_geotiff(gdf,'rh95',thumbmail_path,0.01, nodata_value=0)\n",
    "    \n",
    "    item = pystac.Item(id=item_name,\n",
    "                     geometry=footprint,\n",
    "                     bbox=gdf.total_bounds.tolist(),\n",
    "                     properties={'size (bytes)':file_size,'point counts':num_of_points},\n",
    "                     start_datetime=s_date,\n",
    "                     end_datetime=e_date,\n",
    "                     datetime=None,\n",
    "                     stac_extensions='https://github.com/Open-Earth-Monitor/GlobalEarthPoint',                   \n",
    "                     )\n",
    "\n",
    "    item.common_metadata.platform = 'GlobalEarthPoint'\n",
    "    item.common_metadata.license = 'CC-BY-4.0'\n",
    "    # Define the COG asset with media type\n",
    "    item.add_asset(\n",
    "        key=asset_name,\n",
    "        title='GeoParquet',\n",
    "        roles=[\"data\"],        \n",
    "        asset=pystac.Asset(\n",
    "            href=url\n",
    "            description='A partition of high quality GEDI02 dataset in GeoParquet.'\n",
    "        )\n",
    "\n",
    "    )\n",
    "    item.assets[\"thumbnail\"] = pystac.Asset(\n",
    "        href=f'overview_{item_name}.tif',\n",
    "        media_type=\"image/tiff; application=geotiff; profile=cloud-optimized\",\n",
    "        roles=[\"overview\",\"thumbnail\"],\n",
    "        title=\"Overview\",\n",
    "        description=\"A COG representing rh95 rasterized from GEDI02 points (vector data), 1km.\"\n",
    "    )\n",
    "    # Add Asset and all its information to Item \n",
    "    \n",
    "\n",
    "    return item\n"
   ]
  },
  {
   "cell_type": "code",
   "execution_count": null,
   "id": "62b21d4f-427e-4d9c-9b00-e8b267ec894d",
   "metadata": {
    "scrolled": true,
    "tags": []
   },
   "outputs": [],
   "source": [
    "items = Parallel(n_jobs=-1)(delayed(worker)(i) for i in files)"
   ]
  },
  {
   "cell_type": "markdown",
   "id": "9e2cae5d-959a-43ce-a8dc-3b077ff22184",
   "metadata": {
    "tags": []
   },
   "source": [
    "# Part 4: create a geojson of tile system overview at the collection level.\n",
    "The GeoJSON overview contains the tiling system (5x5 degree) yearly, the size, point counts, startdate and enddate of the record, etc. The purpose of this file is inspired by [stac-geoparquet](https://github.com/stac-utils/stac-geoparquet), where the overview of collection can help filter the collection without loading the items themselves. "
   ]
  },
  {
   "cell_type": "code",
   "execution_count": null,
   "id": "ab3af345-9f47-4599-9b99-4ea70898da72",
   "metadata": {
    "tags": []
   },
   "outputs": [],
   "source": [
    "df=[]\n",
    "for item in items:\n",
    "    d={'item_id':item.id,\n",
    "'size_in_mb':item.properties['size (bytes)']/(1024**2),\n",
    "'point_counts':item.properties['point counts'],\n",
    "'start_date':item.properties['start_datetime'],\n",
    "'end_date':item.properties['end_datetime'],\n",
    "'platform':item.properties['platform'],\n",
    "'stac_extentsion':item.stac_extensions,\n",
    "'asset_file':item.assets['l2v002.gedi_20190418_20230316_go_epsg.4326_v20240827'].href,\n",
    "'geometry':Polygon(item.geometry['coordinates'][0])}\n",
    "    df.append(d)\n"
   ]
  },
  {
   "cell_type": "code",
   "execution_count": null,
   "id": "d407adc7-6ba8-46ac-8bd9-d459934f05a4",
   "metadata": {
    "tags": []
   },
   "outputs": [],
   "source": [
    "df = pd.DataFrame(df)"
   ]
  },
  {
   "cell_type": "code",
   "execution_count": null,
   "id": "d8bc43be-3d47-4197-a15a-c85a237d0b84",
   "metadata": {
    "tags": []
   },
   "outputs": [],
   "source": [
    "gdf = gpd.GeoDataFrame(\n",
    "    df, crs=\"EPSG:4326\"\n",
    ")"
   ]
  },
  {
   "cell_type": "code",
   "execution_count": null,
   "id": "4eebd8e7-6c4f-43d2-b73a-e41b58a73edb",
   "metadata": {
    "tags": []
   },
   "outputs": [],
   "source": [
    "gdf=gdf.set_geometry('geometry')"
   ]
  },
  {
   "cell_type": "code",
   "execution_count": null,
   "id": "848fbb15-8eac-40a8-aa52-6461fbf4c0f3",
   "metadata": {
    "tags": []
   },
   "outputs": [],
   "source": [
    "gdf.to_file('stac/GEDI02/stac_items_geojson', driver='GeoJSON')"
   ]
  },
  {
   "cell_type": "markdown",
   "id": "d86ede8f-b231-443d-92af-c9f08522f4d5",
   "metadata": {},
   "source": [
    "## Part 5: Create a collection placeholder \n",
    "\n",
    "Create a collection and define the spatial and temporal extent, license, columns, keywords, etc.."
   ]
  },
  {
   "cell_type": "code",
   "execution_count": null,
   "id": "4e38f04c-1e43-4b24-a46b-50dcc2ad84af",
   "metadata": {
    "tags": []
   },
   "outputs": [],
   "source": [
    "collection_bbox = [-180, 51.6, 180 ,-51.6]\n",
    "collection_interval = [datetime(2019,3,25), datetime(2023,3,15)]"
   ]
  },
  {
   "cell_type": "code",
   "execution_count": null,
   "id": "87c5520d-8465-4667-b2db-899f4dedb2ef",
   "metadata": {
    "tags": []
   },
   "outputs": [],
   "source": [
    "spatial_extent = pystac.SpatialExtent(bboxes=[collection_bbox])\n",
    "temporal_extent = pystac.TemporalExtent(intervals=[collection_interval])"
   ]
  },
  {
   "cell_type": "code",
   "execution_count": null,
   "id": "6c54056f-a40d-4460-80e8-22e9261f71ae",
   "metadata": {
    "tags": []
   },
   "outputs": [],
   "source": [
    "collection_extent = pystac.Extent(spatial=spatial_extent, temporal=temporal_extent)"
   ]
  },
  {
   "cell_type": "code",
   "execution_count": null,
   "id": "59c14334-a8c5-4cc6-8b84-fb9576d4b416",
   "metadata": {
    "tags": []
   },
   "outputs": [],
   "source": [
    "collection = pystac.Collection(id='GEDI02',\n",
    "                               title='High quality GEDI level2',\n",
    "                               description=\"Global Ecosystem Dynamics Investigation (GEDI) is a full-waveform satellite LiDAR (Light Detection And Ranging), collecting 3D measurements over land (trough recorded backscattered laser energy, i.e., waveforms) near-globally, between 51.6° N and S within a laser footprint diameter of 25 m between 2019-03-25 and 2023-03-15. To foster the uptake and mask out the complexity and large data volume of GEDI products (GEDI L2, version 2,- V002) to the OEMC  and broader users, we aim to host pre-filtered and high-quality GEDI points (including their relative heights, and waveform- and derived-attributes) and offer them as a cloud service.\",\n",
    "                               extent=collection_extent,\n",
    "                               license='CC-BY-4.0',\n",
    "                               keywords=['gedi','level2','in-situ data','lidar','canopy height','canopy structure','terrain height'],\n",
    "                               extra_fields={'columns_provided':gedi_columns})"
   ]
  },
  {
   "cell_type": "code",
   "execution_count": null,
   "id": "17173fbf-8f7b-455d-9c69-0dd9b1324264",
   "metadata": {
    "tags": []
   },
   "outputs": [],
   "source": [
    "# Define a new provider\n",
    "new_provider = pystac.Provider(\n",
    "    name=\"OpenGeoHub\",\n",
    "    description=\"OpenGeoHub Foundation\",\n",
    "    roles=[\"processor\", \"host\"],  # Can be 'producer', 'processor', 'host', 'licensor'\n",
    "    url=\"http://opengeohub.org\"  # Provider's website\n",
    ")\n",
    "\n",
    "# Add the provider to the collection (or update existing ones)\n",
    "collection.providers = [new_provider]"
   ]
  },
  {
   "cell_type": "code",
   "execution_count": null,
   "id": "817a70dd-4eee-4740-9b1d-abefdefc0693",
   "metadata": {
    "tags": []
   },
   "outputs": [],
   "source": [
    "# Add DOI, Contact Name, and Email to extra_fields\n",
    "collection.extra_fields[\"doi\"] = \"https://doi.org/10.5281/zenodo.8406375\"  # Replace with actual DOI\n",
    "collection.extra_fields[\"contact_name\"] = \"Yu Feng HO\"\n",
    "collection.extra_fields[\"contact_email\"] = \"yu-feng.ho@opengeohub.org\"\n"
   ]
  },
  {
   "cell_type": "markdown",
   "id": "e36ac2a8-ec2e-4b6a-a7d7-f57ce038bfdc",
   "metadata": {},
   "source": [
    "## Part 6: Insert objects into Collection"
   ]
  },
  {
   "cell_type": "code",
   "execution_count": null,
   "id": "205313db-b07f-4cb0-a4b2-2c79c2af859d",
   "metadata": {
    "tags": []
   },
   "outputs": [],
   "source": [
    "# insert overview of the collection (GeoJSON) \n",
    "tiles_vector = pystac.Asset(title='GeoJSON STAC items',href='stac_items_geojson', \n",
    "                          media_type=pystac.MediaType.GEOJSON,\n",
    "                          description=\"STAC items of GEDI02 collection based on a 5 degree x 5 degree tiling system\")\n",
    "collection.add_asset(key='stac_items',\n",
    "                   asset=tiles_vector)"
   ]
  },
  {
   "cell_type": "code",
   "execution_count": null,
   "id": "281a1350-b134-403b-b492-fde9400ad05a",
   "metadata": {
    "scrolled": true,
    "tags": []
   },
   "outputs": [],
   "source": [
    "# insert items \n",
    "collection.add_items(items)"
   ]
  },
  {
   "cell_type": "markdown",
   "id": "219ec0f3-2584-4435-a2a7-b84d46f61da3",
   "metadata": {},
   "source": [
    "## Part 7: Create a self-contained catalog to host the collection"
   ]
  },
  {
   "cell_type": "code",
   "execution_count": null,
   "id": "363f77c4-d70f-41bc-b4e3-01a03d75a7f7",
   "metadata": {
    "tags": []
   },
   "outputs": [],
   "source": [
    "catalog = pystac.Catalog(id='GlobalEarthPoint',\n",
    "                         description='This Catalog serves the cloud optimized high equality vector data of the world')\n",
    "catalog.add_child(collection)"
   ]
  },
  {
   "cell_type": "code",
   "execution_count": null,
   "id": "bcb03422-fb00-462d-b086-392c708685ce",
   "metadata": {
    "tags": []
   },
   "outputs": [],
   "source": [
    "#catalog.normalize_hrefs(os.path.join('/mnt/apollo/eu_ecudatacube_vector', \"stac\"))\n",
    "catalog.normalize_hrefs(\"stac\")"
   ]
  },
  {
   "cell_type": "code",
   "execution_count": null,
   "id": "fc3d8ae3-5f92-42a7-8318-4f123f60edf9",
   "metadata": {
    "tags": []
   },
   "outputs": [],
   "source": [
    "catalog.save(catalog_type=pystac.CatalogType.SELF_CONTAINED,dest_href='stac')"
   ]
  }
 ],
 "metadata": {
  "kernelspec": {
   "display_name": "Python 3 (ipykernel)",
   "language": "python",
   "name": "python3"
  },
  "language_info": {
   "codemirror_mode": {
    "name": "ipython",
    "version": 3
   },
   "file_extension": ".py",
   "mimetype": "text/x-python",
   "name": "python",
   "nbconvert_exporter": "python",
   "pygments_lexer": "ipython3",
   "version": "3.8.16"
  }
 },
 "nbformat": 4,
 "nbformat_minor": 5
}
